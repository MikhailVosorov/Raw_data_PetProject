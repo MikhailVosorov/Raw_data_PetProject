{
 "cells": [
  {
   "cell_type": "markdown",
   "metadata": {},
   "source": [
    "Данные имеют следующую структуру:\n",
    "\n",
    "- Записываются для каждого пользователя, совершившего покупки, каждый день\n",
    "- Для каждой даты есть своя папка, внутри неё – папки для каждого пользователя\n",
    "- Внутри каждой папки есть файл data.csv, где и хранятся данные\n",
    "\n",
    "Схематично выглядит так:\n",
    "\n",
    "└── data\n",
    "   ├── 2020-12-30\n",
    "   │  ├── FirstName_LastName1\n",
    "   │  │   └── data.csv\n",
    "   │  ├── FirstName_LastName2\n",
    "   │  │   └── data.csv\n",
    "   │  └── FirstName_LastName3\n",
    "   │      └── data.csv\n",
    "   └── 2020-12-31\n",
    "      ├── FirstName_LastName1\n",
    "      │   └── data.csv\n",
    "      └── FirstName_LastName5\n",
    "          └── data.csv\n",
    "Например, 30 декабря три покупателя сделали покупки, 31 – два \n",
    "(папки 2020-12-30 и 2020-12-31 соответственно). Поскольку клиент FirstName_LastName1 купил товары в оба дня, для него имеется папка в папке для каждой из дат. Для других клиентов – по одной.\n",
    "\n",
    "Задачи:\n",
    "1. Соберите все данные из папки data в один датафрэйм, имеющий следующие столбцы: колонки из самих файлов (product_id,              quantity), а также имя пользователя (name), и дата этих покупок (date), соответствует названию папки, где лежит папка с          пользователем)\n",
    "\n",
    "2. Выясните, какой пользователь купил больше всего товаров. Если их несколько, то перечислите имена через запятую с пробелом и в    алфавитном порядке.\n",
    "\n",
    "3. Найдите топ-10 товаров по числу проданных единиц за всё время и постройте столбцовую диаграмму(барплот). Сколько было продано    единиц товара с product_id==56?\n",
    "\n",
    "4. Визуализируйте продажи по дням.\n",
    "\n",
    "5. Сколько пользователей приобрели какой-либо товар повторно (более 1 раза)? Повтором будем считать покупку товара с одинаковым    product_id, совершенную в разные дни. "
   ]
  },
  {
   "cell_type": "code",
   "execution_count": 2,
   "metadata": {},
   "outputs": [],
   "source": [
    "# импортируем библиотке для анализа данных и более удобной работы с путем к файлам\n",
    "import pandas as pd\n",
    "import os\n",
    "import seaborn as sns\n",
    "import matplotlib.pyplot as plt\n",
    "%matplotlib inline"
   ]
  },
  {
   "cell_type": "code",
   "execution_count": 3,
   "metadata": {},
   "outputs": [
    {
     "data": {
      "text/html": [
       "<div>\n",
       "<style scoped>\n",
       "    .dataframe tbody tr th:only-of-type {\n",
       "        vertical-align: middle;\n",
       "    }\n",
       "\n",
       "    .dataframe tbody tr th {\n",
       "        vertical-align: top;\n",
       "    }\n",
       "\n",
       "    .dataframe thead th {\n",
       "        text-align: right;\n",
       "    }\n",
       "</style>\n",
       "<table border=\"1\" class=\"dataframe\">\n",
       "  <thead>\n",
       "    <tr style=\"text-align: right;\">\n",
       "      <th></th>\n",
       "      <th>product_id</th>\n",
       "      <th>quantity</th>\n",
       "      <th>name</th>\n",
       "      <th>date</th>\n",
       "    </tr>\n",
       "  </thead>\n",
       "  <tbody>\n",
       "    <tr>\n",
       "      <th>0</th>\n",
       "      <td>27</td>\n",
       "      <td>4</td>\n",
       "      <td>Petr_Ivanov</td>\n",
       "      <td>2020-12-05</td>\n",
       "    </tr>\n",
       "    <tr>\n",
       "      <th>1</th>\n",
       "      <td>89</td>\n",
       "      <td>1</td>\n",
       "      <td>Petr_Ivanov</td>\n",
       "      <td>2020-12-05</td>\n",
       "    </tr>\n",
       "    <tr>\n",
       "      <th>2</th>\n",
       "      <td>33</td>\n",
       "      <td>2</td>\n",
       "      <td>Petr_Ivanov</td>\n",
       "      <td>2020-12-05</td>\n",
       "    </tr>\n",
       "    <tr>\n",
       "      <th>3</th>\n",
       "      <td>8</td>\n",
       "      <td>3</td>\n",
       "      <td>Petr_Ivanov</td>\n",
       "      <td>2020-12-05</td>\n",
       "    </tr>\n",
       "    <tr>\n",
       "      <th>4</th>\n",
       "      <td>16</td>\n",
       "      <td>1</td>\n",
       "      <td>Petr_Ivanov</td>\n",
       "      <td>2020-12-05</td>\n",
       "    </tr>\n",
       "    <tr>\n",
       "      <th>...</th>\n",
       "      <td>...</td>\n",
       "      <td>...</td>\n",
       "      <td>...</td>\n",
       "      <td>...</td>\n",
       "    </tr>\n",
       "    <tr>\n",
       "      <th>0</th>\n",
       "      <td>18</td>\n",
       "      <td>4</td>\n",
       "      <td>Petr_Fedorov</td>\n",
       "      <td>2020-12-07</td>\n",
       "    </tr>\n",
       "    <tr>\n",
       "      <th>1</th>\n",
       "      <td>94</td>\n",
       "      <td>4</td>\n",
       "      <td>Petr_Fedorov</td>\n",
       "      <td>2020-12-07</td>\n",
       "    </tr>\n",
       "    <tr>\n",
       "      <th>0</th>\n",
       "      <td>95</td>\n",
       "      <td>2</td>\n",
       "      <td>Vasiliy_Ivanov</td>\n",
       "      <td>2020-12-07</td>\n",
       "    </tr>\n",
       "    <tr>\n",
       "      <th>1</th>\n",
       "      <td>83</td>\n",
       "      <td>3</td>\n",
       "      <td>Vasiliy_Ivanov</td>\n",
       "      <td>2020-12-07</td>\n",
       "    </tr>\n",
       "    <tr>\n",
       "      <th>2</th>\n",
       "      <td>64</td>\n",
       "      <td>1</td>\n",
       "      <td>Vasiliy_Ivanov</td>\n",
       "      <td>2020-12-07</td>\n",
       "    </tr>\n",
       "  </tbody>\n",
       "</table>\n",
       "<p>161 rows × 4 columns</p>\n",
       "</div>"
      ],
      "text/plain": [
       "    product_id  quantity            name        date\n",
       "0           27         4     Petr_Ivanov  2020-12-05\n",
       "1           89         1     Petr_Ivanov  2020-12-05\n",
       "2           33         2     Petr_Ivanov  2020-12-05\n",
       "3            8         3     Petr_Ivanov  2020-12-05\n",
       "4           16         1     Petr_Ivanov  2020-12-05\n",
       "..         ...       ...             ...         ...\n",
       "0           18         4    Petr_Fedorov  2020-12-07\n",
       "1           94         4    Petr_Fedorov  2020-12-07\n",
       "0           95         2  Vasiliy_Ivanov  2020-12-07\n",
       "1           83         3  Vasiliy_Ivanov  2020-12-07\n",
       "2           64         1  Vasiliy_Ivanov  2020-12-07\n",
       "\n",
       "[161 rows x 4 columns]"
      ]
     },
     "execution_count": 3,
     "metadata": {},
     "output_type": "execute_result"
    }
   ],
   "source": [
    "# Задача 1\n",
    "\n",
    "tree = os.walk(\"/home/jupyter-m-vosorov/shared/homeworks/python_ds_miniprojects/4/data/\")\n",
    "lst = [] # список, из которого впоследствии будем извлекать имя пользователя и дату\n",
    "path_list = [] # список путей к каждому датасету\n",
    "for i in tree: # двойной цикл чтобы пройтись по всему дереву папок и файлов\n",
    "    for j in i: \n",
    "        if 'data.csv' in j: # когда находим файл с датасетом, добавляем путь к этому файлу в два заранее созданных списка\n",
    "            lst.append(i[0].split()[0]) \n",
    "            path_list.append(i[0].split()[0])\n",
    "for i in range(len(lst)):\n",
    "    lst[i] = lst[i] + \"/data.csv\" \n",
    "    path_list[i] = path_list[i] + \"/data.csv\" \n",
    "for i in range(len(lst)):\n",
    "    lst[i] = lst[i].split(\"/\")\n",
    "\n",
    "big_df = pd.DataFrame() # создаем пустой датафрейм к которому будет добавлять маленькие датафреймы\n",
    "\n",
    "\n",
    "for i in range(len(path_list)): # пробегаемся по списку с путями к датасетам\n",
    "    df = pd.read_csv(path_list[i]).drop(columns = \"Unnamed: 0\") # читаем датасет и убираем лишнюю колонку\n",
    "    df[\"name\"] = lst[i][9] # добавляем наполняем значениями колонку с именем\n",
    "    df[\"date\"] = lst[i][8] # добавлям и наполняем значениями колонку с датой\n",
    "    big_df = pd.concat([big_df, df]) # добавляем маленький датасет к пустому, на следущей итерации он уже не будет пустым\n",
    "                     \n",
    "big_df.reset_index().drop(columns = \"index\")\n",
    "\n",
    "# по итогу получаем объеденнённый датасет\n",
    "big_df"
   ]
  },
  {
   "cell_type": "code",
   "execution_count": 4,
   "metadata": {},
   "outputs": [
    {
     "data": {
      "text/html": [
       "<div>\n",
       "<style scoped>\n",
       "    .dataframe tbody tr th:only-of-type {\n",
       "        vertical-align: middle;\n",
       "    }\n",
       "\n",
       "    .dataframe tbody tr th {\n",
       "        vertical-align: top;\n",
       "    }\n",
       "\n",
       "    .dataframe thead th {\n",
       "        text-align: right;\n",
       "    }\n",
       "</style>\n",
       "<table border=\"1\" class=\"dataframe\">\n",
       "  <thead>\n",
       "    <tr style=\"text-align: right;\">\n",
       "      <th></th>\n",
       "      <th>name</th>\n",
       "      <th>quantity</th>\n",
       "    </tr>\n",
       "  </thead>\n",
       "  <tbody>\n",
       "    <tr>\n",
       "      <th>3</th>\n",
       "      <td>Alexey_Smirnov</td>\n",
       "      <td>52</td>\n",
       "    </tr>\n",
       "    <tr>\n",
       "      <th>13</th>\n",
       "      <td>Petr_Smirnov</td>\n",
       "      <td>52</td>\n",
       "    </tr>\n",
       "    <tr>\n",
       "      <th>6</th>\n",
       "      <td>Anton_Smirnov</td>\n",
       "      <td>45</td>\n",
       "    </tr>\n",
       "    <tr>\n",
       "      <th>10</th>\n",
       "      <td>Petr_Fedorov</td>\n",
       "      <td>34</td>\n",
       "    </tr>\n",
       "    <tr>\n",
       "      <th>7</th>\n",
       "      <td>Kirill_Fedorov</td>\n",
       "      <td>28</td>\n",
       "    </tr>\n",
       "  </tbody>\n",
       "</table>\n",
       "</div>"
      ],
      "text/plain": [
       "              name  quantity\n",
       "3   Alexey_Smirnov        52\n",
       "13    Petr_Smirnov        52\n",
       "6    Anton_Smirnov        45\n",
       "10    Petr_Fedorov        34\n",
       "7   Kirill_Fedorov        28"
      ]
     },
     "execution_count": 4,
     "metadata": {},
     "output_type": "execute_result"
    }
   ],
   "source": [
    "# Задача 2\n",
    "\n",
    "big_df \\\n",
    "    .groupby(\"name\", as_index = False) \\\n",
    "    .agg({\"quantity\" : \"sum\"}) \\\n",
    "    .sort_values(\"quantity\", ascending = False) \\\n",
    "    .head()\n",
    "\n",
    "# Итак, больше всего покупок совершили Alexey_Smirnov и Petr_Smirnov"
   ]
  },
  {
   "cell_type": "code",
   "execution_count": 5,
   "metadata": {},
   "outputs": [
    {
     "data": {
      "text/plain": [
       "<matplotlib.axes._subplots.AxesSubplot at 0x7fbd443cf860>"
      ]
     },
     "execution_count": 5,
     "metadata": {},
     "output_type": "execute_result"
    },
    {
     "data": {
      "image/png": "[encoded data removed]",
      "text/plain": [
       "<Figure size 720x432 with 1 Axes>"
      ]
     },
     "metadata": {
      "needs_background": "light"
     },
     "output_type": "display_data"
    }
   ],
   "source": [
    "# Задача 3\n",
    "top_ten = big_df \\\n",
    "            .groupby(\"product_id\", as_index = False) \\\n",
    "            .agg({\"quantity\" : \"sum\"}) \\\n",
    "            .sort_values(\"quantity\", ascending = False) \\\n",
    "            .head(10)\n",
    "plt.figure(figsize=(10, 6))\n",
    "sns.barplot(x = \"product_id\", y = \"quantity\", data = top_ten, order=top_ten.sort_values('quantity').product_id)"
   ]
  },
  {
   "cell_type": "code",
   "execution_count": 6,
   "metadata": {},
   "outputs": [
    {
     "data": {
      "text/plain": [
       "<matplotlib.axes._subplots.AxesSubplot at 0x7fbce84d74e0>"
      ]
     },
     "execution_count": 6,
     "metadata": {},
     "output_type": "execute_result"
    },
    {
     "data": {
      "image/png": "[encoded data removed]",
      "text/plain": [
       "<Figure size 432x288 with 1 Axes>"
      ]
     },
     "metadata": {
      "needs_background": "light"
     },
     "output_type": "display_data"
    }
   ],
   "source": [
    "# Задача 4\n",
    "big_df = big_df.astype({\"date\" : \"datetime64\"})\n",
    "big_df['day'] = big_df[\"date\"].dt.day\n",
    "buys_per_day = big_df \\\n",
    "                .groupby(\"day\", as_index = False) \\\n",
    "                .agg({\"quantity\" : \"sum\"}) \\\n",
    "                .sort_values(\"day\", ascending = True)\n",
    "\n",
    "sns.barplot(data = buys_per_day, x = \"day\", y = \"quantity\")"
   ]
  },
  {
   "cell_type": "code",
   "execution_count": 59,
   "metadata": {},
   "outputs": [
    {
     "data": {
      "text/html": [
       "<div>\n",
       "<style scoped>\n",
       "    .dataframe tbody tr th:only-of-type {\n",
       "        vertical-align: middle;\n",
       "    }\n",
       "\n",
       "    .dataframe tbody tr th {\n",
       "        vertical-align: top;\n",
       "    }\n",
       "\n",
       "    .dataframe thead th {\n",
       "        text-align: right;\n",
       "    }\n",
       "</style>\n",
       "<table border=\"1\" class=\"dataframe\">\n",
       "  <thead>\n",
       "    <tr style=\"text-align: right;\">\n",
       "      <th></th>\n",
       "      <th>product_id</th>\n",
       "      <th>name</th>\n",
       "      <th>unique_dates</th>\n",
       "    </tr>\n",
       "  </thead>\n",
       "  <tbody>\n",
       "    <tr>\n",
       "      <th>24</th>\n",
       "      <td>15</td>\n",
       "      <td>Anton_Ivanov</td>\n",
       "      <td>2</td>\n",
       "    </tr>\n",
       "    <tr>\n",
       "      <th>150</th>\n",
       "      <td>94</td>\n",
       "      <td>Petr_Fedorov</td>\n",
       "      <td>2</td>\n",
       "    </tr>\n",
       "  </tbody>\n",
       "</table>\n",
       "</div>"
      ],
      "text/plain": [
       "     product_id          name  unique_dates\n",
       "24           15  Anton_Ivanov             2\n",
       "150          94  Petr_Fedorov             2"
      ]
     },
     "execution_count": 59,
     "metadata": {},
     "output_type": "execute_result"
    }
   ],
   "source": [
    "# Задача 5\n",
    "big_df \\\n",
    "    .groupby([\"product_id\", \"name\"], as_index = False) \\\n",
    "    .agg({\"date\" : pd.Series.nunique}) \\\n",
    "    .query(\"date > 1\") \\\n",
    "    .rename(columns = {\"date\" : \"unique_dates\"})\n",
    "# В каждой группе будут покупики только одного пользователя и одного товара \n",
    "# И потом для каждой группы мы посчитаем сколько там уникальных дат\n",
    "\n",
    "# Как мы видим у нас всего два пользователя покупали один и тот же товар в разные дни"
   ]
  },
  {
   "cell_type": "code",
   "execution_count": null,
   "metadata": {},
   "outputs": [],
   "source": []
  }
 ],
 "metadata": {
  "kernelspec": {
   "display_name": "Python 3",
   "language": "python",
   "name": "python3"
  },
  "language_info": {
   "codemirror_mode": {
    "name": "ipython",
    "version": 3
   },
   "file_extension": ".py",
   "mimetype": "text/x-python",
   "name": "python",
   "nbconvert_exporter": "python",
   "pygments_lexer": "ipython3",
   "version": "3.7.3"
  }
 },
 "nbformat": 4,
 "nbformat_minor": 4
}
